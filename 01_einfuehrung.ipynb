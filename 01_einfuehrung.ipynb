{
 "cells": [
  {
   "cell_type": "markdown",
   "id": "1ecc948f-51bc-4e71-9e5b-291641b66f43",
   "metadata": {
    "editable": true,
    "slideshow": {
     "slide_type": ""
    },
    "tags": []
   },
   "source": [
    "# **Einführung**\n"
   ]
  },
  {
   "cell_type": "markdown",
   "id": "0a0d3d7b-7b79-4d76-8f01-245527fe8e1b",
   "metadata": {},
   "source": [
    "## Was ist Python?\n"
   ]
  },
  {
   "cell_type": "markdown",
   "id": "537c7ad3-b24d-40dd-88b5-64baf0828f71",
   "metadata": {},
   "source": [
    "Python ist eine objektorientierte Scriptsprache, welche Anfang der 1990er Jahre von <a href=\"https://de.wikipedia.org/wiki/Guido_van_Rossum\">Guido van Rossum</a>\n",
    "entwickelt wurde. \n",
    "\n",
    "Python ist für viele Betriebssystemplattformen verfügbar und darf frei verwendet werden. Die Sprache besitzt eine klare Struktur und ist deshalb für Programmieranfänger gut geeignet. Der Name der Programmiersprache stammt von der englischen Komikergruppe [Monty Python](https://de.wikipedia.org/wiki/Monty_Python).\n"
   ]
  },
  {
   "cell_type": "markdown",
   "id": "d2819d5a-54e2-4edd-99c7-ff85709d3c86",
   "metadata": {},
   "source": [
    "## Was ist ein Jupyternotebook?"
   ]
  },
  {
   "cell_type": "markdown",
   "id": "1fcb48e8-317a-452c-8750-17060cafe52e",
   "metadata": {},
   "source": [
    "Ein Jupyternotebook ist ein Dokument, mit dem sich Pythoncode direkt ausführen lässt. Dieser Code ist in sogenannte **Zellen** geschrieben. Neben den **Zellen mit Pythoncode** gibt es noch **Markdownzellen** in denen man den Inhalt des Notebooks ähnlich wie in einer HTML-Datei beschreiben kann. \n",
    "\n",
    "Die Zellen kann man dann mit der Tasenkombination  <kbd>STRG</kbd> + <kbd>EINGABETASTE</kbd> ausführen."
   ]
  },
  {
   "cell_type": "markdown",
   "id": "d7df725c-8ef5-49e8-a243-472133da7524",
   "metadata": {
    "editable": true,
    "slideshow": {
     "slide_type": ""
    },
    "tags": []
   },
   "source": [
    "#### **Aufgabe 1**\n",
    "\n",
    "a)\n",
    "\n",
    "Ich bin eine **Markdownzelle**. In mir kann man Text ähnlich wie in **HTML** formatieren. Neben den **Markdownformatierungen** sind auch direkte <strong>HTML-Formatierungen</strong> erlaubt.\n",
    "<br>Führe einen Dopplelklick auf mich aus und schaue dir meine Formatierung an!\n",
    "<br>Stelle mich durch die Tastenkombination <<kbd>STRG</kbd> + <kbd>EINGABETASTE</kbd> wieder her!\n",
    "\n",
    "b)\n",
    "\n",
    "Unter mir befindet sich eine eine **Codezelle** mit Python-Code. Klicke in die Code-Zelle und führe sie durch die Tastenkombination <kbd>STRG</kbd> + <kbd>EINGABETASTE</kbd> aus!"
   ]
  },
  {
   "cell_type": "code",
   "execution_count": null,
   "id": "7db092ff-3ad1-4d53-ae39-61583fe94808",
   "metadata": {
    "editable": true,
    "slideshow": {
     "slide_type": ""
    },
    "tags": []
   },
   "outputs": [],
   "source": [
    "print(\"Jupyter und Python sind cool!\")"
   ]
  },
  {
   "cell_type": "markdown",
   "id": "cfc88e13-706b-48f6-b260-f864db43dcad",
   "metadata": {
    "editable": true,
    "slideshow": {
     "slide_type": ""
    },
    "tags": []
   },
   "source": [
    "#### **Aufgabe 2**\n",
    "\n",
    "Erstelle ein eigenes Jupyternotebook. Erstelle im Notebook einige Markdownzellen und teste einige Formatierungen in den Zellen mit HTML- und Markdownbefehlen. Anregungen kannst du dir hier holen:\n",
    "\n",
    "- [The Ultimate Markdown Guide (for Jupyter Notebook)](https://medium.com/analytics-vidhya/the-ultimate-markdown-guide-for-jupyter-notebook-d5e5abf728fd)\n",
    "- [Markdown in Jupyter Notebook Tutorial](https://www.datacamp.com/tutorial/markdown-in-jupyter-notebook)\n",
    "- [Jupyter Notebook Markdown Cheat Sheet](https://www.nnscript.de/jupyter-notebook-markdown-cheat-sheet/)\n"
   ]
  },
  {
   "cell_type": "markdown",
   "id": "4eb407dc-1ce9-4417-a194-9bca87c3f592",
   "metadata": {},
   "source": [
    "## Was ist Coding Labs?\n",
    "\n",
    "Coding Labs ist eine Programmierumgebung auf der Basis von [Jupyterlab](https://jupyter.org/). Neben **Jupyternotebooks (.ipynb)** lassen sich auch reine **Pythondateien (.py)**, **Markdowndateien (.md)** und **Textdateien (.txt)** erstellen. Weiterhin lässt sich in der Umgebung auch eine **Pythonshell (Pythonkonsole)** starten, in der sich Pythonbefehle direkt ausführen lassen. Als weiteres Tool gibt es noch ein **Sytemterminal** in dem man Systembefehle ausführen, also z.B.\n",
    "- Pythonprogramme direkt starten,\n",
    "- eine Pythonshell direkt ausführen,\n",
    "- oder Pythonbibliotheken nachinstallieren.\n",
    "\n",
    "Damit werden wir uns später beschäftigen!"
   ]
  },
  {
   "cell_type": "markdown",
   "id": "37990bc4-8e91-4cf5-ae7b-4b63cb70e6b3",
   "metadata": {},
   "source": [
    "## Welche anderen Möglichkeiten gibt es, um Pythonprogamme auszuführen?\n",
    "\n",
    "Natürlich sind Jupyternotebooks nicht die einzige Möglichkeit, Pythonprogramme zu schreiben. Innerhalb von Coding Labs kann man auch Pythonprogramme direkt in Pythondateien schreiben und mit Hilfe des Systemterminals ausführen. Man kann Python auch direkt für das jeweilige Betriebssystem [installieren](https://www.herrmix.de/dokuwiki/doku.php?id=python:installation) und somit Pythonprogramme im jeweiligen System ausführen. Darüber lernen wir später mehr."
   ]
  },
  {
   "cell_type": "markdown",
   "id": "738c4e8e-8da7-45db-b514-1b29f170d81d",
   "metadata": {},
   "source": [
    "[--> Algorithmen](../02_Alg/02_algorithmen.ipynb)"
   ]
  },
  {
   "cell_type": "markdown",
   "id": "18d4fb0f-bd98-49a6-80d1-9b0e15bda0b4",
   "metadata": {},
   "source": [
    "<br>\n",
    "<br>\n",
    "<br>\n",
    "<br>\n",
    "© Lutz Herrmann - Georgius-Agricola-Gymnasium Glauchau - <a href=\"https://creativecommons.org/licenses/by-nc-sa/4.0/deed.de\">CC Attribution-Noncommercial-Share Alike 4.0 International</a>"
   ]
  }
 ],
 "metadata": {
  "kernelspec": {
   "display_name": "Python 3 (ipykernel)",
   "language": "python",
   "name": "python3"
  },
  "language_info": {
   "codemirror_mode": {
    "name": "ipython",
    "version": 3
   },
   "file_extension": ".py",
   "mimetype": "text/x-python",
   "name": "python",
   "nbconvert_exporter": "python",
   "pygments_lexer": "ipython3",
   "version": "3.11.9"
  }
 },
 "nbformat": 4,
 "nbformat_minor": 5
}
